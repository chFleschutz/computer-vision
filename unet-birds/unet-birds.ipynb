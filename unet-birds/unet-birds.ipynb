{
 "cells": [
  {
   "cell_type": "markdown",
   "id": "3b695ec4-d0f4-402a-bfe6-7d26af086989",
   "metadata": {},
   "source": [
    "# Imports"
   ]
  },
  {
   "cell_type": "code",
   "execution_count": null,
   "id": "9f70ac75",
   "metadata": {},
   "outputs": [],
   "source": [
    "import torch\n",
    "import torch.nn as nn\n",
    "from torchvision import datasets\n",
    "from torchvision.transforms import transforms\n",
    "from torch.utils.data import Dataset\n",
    "from torch.utils.data import DataLoader\n",
    "\n",
    "import numpy as np\n",
    "\n",
    "import matplotlib.pyplot as plt\n",
    "\n",
    "from PIL import Image\n"
   ]
  },
  {
   "cell_type": "markdown",
   "id": "0eab1cc5-6e04-4d11-a717-6a7d89086403",
   "metadata": {},
   "source": [
    "# Setup"
   ]
  },
  {
   "cell_type": "markdown",
   "id": "d05dd256",
   "metadata": {},
   "source": [
    "Download dataset from [here](https://data.caltech.edu/records/65de6-vp158/files/CUB_200_2011.tgz?download=1) and extract it into the `data` folder"
   ]
  },
  {
   "cell_type": "code",
   "execution_count": 2,
   "id": "d8d0dd23",
   "metadata": {},
   "outputs": [],
   "source": [
    "config = {\n",
    "    \"lr\": 1e-3,\n",
    "    \"batch_size\": 16,\n",
    "    \"image_dir\": \"data/CUB_200_2011/images\",\n",
    "    \"segmentation_dir\": \"data/CUB_200_2011/segmentations\",\n",
    "    \"image_paths\": \"data/CUB_200_2011/images.txt\",\n",
    "    \"epochs\": 10,\n",
    "    \"checkpoint\": \"checkpoint/bird_segmentation_v1.pth\",\n",
    "    \"optimiser\": \"checkpoint/bird_segmentation_v1_optim.pth\",\n",
    "    \"continue_train\": False,\n",
    "    \"device\": \"cuda\" if torch.cuda.is_available() else \"cpu\"\n",
    "}"
   ]
  },
  {
   "cell_type": "code",
   "execution_count": 3,
   "id": "12b7aa86-f0f1-4fee-8d7d-017c61a0d57a",
   "metadata": {},
   "outputs": [
    {
     "name": "stdout",
     "output_type": "stream",
     "text": [
      "Directory checkpoint already exists!\n",
      "Directory test/pred already exists!\n",
      "Directory test/true already exists!\n"
     ]
    }
   ],
   "source": [
    "import os\n",
    "\n",
    "def makeSubDir(subdir):\n",
    "    if not os.path.exists(subdir):\n",
    "        os.makedirs(subdir)\n",
    "        print(\"Directory\", subdir, \"created successfully!\")\n",
    "    else:\n",
    "        print(\"Directory\", subdir, \"already exists!\")\n",
    "\n",
    "makeSubDir(\"checkpoint\")\n",
    "makeSubDir(\"test/pred\")\n",
    "makeSubDir(\"test/true\")"
   ]
  },
  {
   "cell_type": "markdown",
   "id": "ff7b89be",
   "metadata": {},
   "source": [
    "# Load data"
   ]
  },
  {
   "cell_type": "code",
   "execution_count": null,
   "id": "cd20b414",
   "metadata": {},
   "outputs": [],
   "source": [
    "class BirdDataset(Dataset):\n",
    "    def __init__(self, image_paths, image_dir, segmentation_dir, transform_image, transform_mask):\n",
    "        super(BirdDataset, self).__init__()\n",
    "        self.image_dir = image_dir\n",
    "        self.segmentation_dir = segmentation_dir\n",
    "        self.transform_image = transform_image\n",
    "        self.transform_mask = transform_mask\n",
    "        with open(image_paths, 'r') as f:\n",
    "            self.images_paths = [line.split(\" \")[-1] for line in f.readlines()]\n",
    "    \n",
    "    def __len__(self):\n",
    "        return len(self.images_paths)\n",
    "    \n",
    "    def __getitem__(self, index):\n",
    "        image_name = \".\".join(self.images_paths[index].split('.')[:-1])\n",
    "\n",
    "        image = Image.open(os.path.join(self.image_dir, f\"{image_name}.jpg\")).convert(\"RGB\")\n",
    "        seg = Image.open(os.path.join(self.segmentation_dir, f\"{image_name}.png\")).convert(\"L\")\n",
    "\n",
    "        image = self.transform_image(image)\n",
    "        seg = self.transform_mask(seg)\n",
    "\n",
    "        return image, seg"
   ]
  },
  {
   "cell_type": "code",
   "execution_count": null,
   "id": "6cf6edfb",
   "metadata": {},
   "outputs": [],
   "source": [
    "transforms_image = transforms.Compose([\n",
    "    transforms.Resize((256, 256)),\n",
    "    transforms.ToTensor(),\n",
    "    transforms.Normalize((0., 0., 0.), (1., 1., 1.))\n",
    "])\n",
    "\n",
    "transforms_mask = transforms.Compose([\n",
    "    transforms.Resize((256, 256)),\n",
    "    transforms.ToTensor(),\n",
    "    transforms.Normalize((0.,), (1.,))\n",
    "])"
   ]
  },
  {
   "cell_type": "code",
   "execution_count": null,
   "id": "6016f291",
   "metadata": {},
   "outputs": [],
   "source": [
    "def load_data_set(image_paths, image_dir, segmentation_dir, transforms, batch_size=8, shuffle=True):\n",
    "    dataset = BirdDataset(image_paths,\n",
    "                          image_dir,\n",
    "                          segmentation_dir,\n",
    "                          transform_image=transforms[0],\n",
    "                          transform_mask=transforms[1])\n",
    "    print(\"Complete Dataset length: \", len(dataset))\n",
    "    train_dataset, val_dataset = torch.utils.data.random_split(dataset, [len(dataset)-16, 16])\n",
    "\n",
    "    return DataLoader( train_dataset, batch_size=batch_size, shuffle=shuffle), \\\n",
    "           DataLoader( val_dataset, batch_size=batch_size, shuffle=shuffle)"
   ]
  },
  {
   "cell_type": "code",
   "execution_count": 7,
   "id": "990f3db7",
   "metadata": {},
   "outputs": [
    {
     "name": "stdout",
     "output_type": "stream",
     "text": [
      "Complete Dataset length:  11788\n",
      "loaded 736 batches\n"
     ]
    }
   ],
   "source": [
    "train_dataset, val_dataset = load_data_set(\n",
    "    config['image_paths'],\n",
    "    config['image_dir'],\n",
    "    config['segmentation_dir'],\n",
    "    transforms=[transforms_image, transforms_mask],\n",
    "    batch_size=config['batch_size']\n",
    ")\n",
    "\n",
    "print(\"loaded\", len(train_dataset), \"batches\")"
   ]
  },
  {
   "cell_type": "markdown",
   "id": "2f02d5bf",
   "metadata": {},
   "source": [
    "# UNet"
   ]
  },
  {
   "cell_type": "code",
   "execution_count": 8,
   "id": "14fa5e6f",
   "metadata": {},
   "outputs": [],
   "source": [
    "class conv_block(nn.Module):\n",
    "    def __init__(self, in_channels, out_channels):\n",
    "        super(conv_block, self).__init__()\n",
    "        self.conv = nn.Sequential(\n",
    "            nn.Conv2d(in_channels, out_channels, kernel_size=3, padding=1),\n",
    "            nn.BatchNorm2d(out_channels),\n",
    "            nn.ReLU(inplace=True),\n",
    "            nn.Conv2d(out_channels, out_channels, kernel_size=3, padding=1),\n",
    "            nn.BatchNorm2d(out_channels),\n",
    "            nn.ReLU(inplace=True)\n",
    "        )\n",
    "    \n",
    "    def forward(self, x):\n",
    "        return self.conv(x)"
   ]
  },
  {
   "cell_type": "code",
   "execution_count": 9,
   "id": "402fae1a",
   "metadata": {},
   "outputs": [],
   "source": [
    "class encoder_block(nn.Module):\n",
    "    def __init__(self, in_channels, out_channels):\n",
    "        super(encoder_block, self).__init__()\n",
    "        self.conv = conv_block(in_channels, out_channels)\n",
    "        self.pool = nn.MaxPool2d(kernel_size=2, stride=2)\n",
    "    \n",
    "    def forward(self, x):\n",
    "        x = self.conv(x)\n",
    "        return self.pool(x), x"
   ]
  },
  {
   "cell_type": "code",
   "execution_count": 10,
   "id": "93c93e50",
   "metadata": {},
   "outputs": [],
   "source": [
    "class decoder_block(nn.Module):\n",
    "    def __init__(self, in_channels, out_channels):\n",
    "        super(decoder_block, self).__init__()\n",
    "        self.up = nn.ConvTranspose2d(in_channels, in_channels//2, kernel_size=2, stride=2)\n",
    "        self.conv = conv_block(in_channels, out_channels)\n",
    "    \n",
    "    def forward(self, x, enc_x):\n",
    "        x = self.up(x)\n",
    "        x = torch.cat([x, enc_x], dim=1)\n",
    "        return self.conv(x)"
   ]
  },
  {
   "cell_type": "code",
   "execution_count": null,
   "id": "fdbd3f8b",
   "metadata": {},
   "outputs": [],
   "source": []
  }
 ],
 "metadata": {
  "kernelspec": {
   "display_name": "base",
   "language": "python",
   "name": "python3"
  },
  "language_info": {
   "codemirror_mode": {
    "name": "ipython",
    "version": 3
   },
   "file_extension": ".py",
   "mimetype": "text/x-python",
   "name": "python",
   "nbconvert_exporter": "python",
   "pygments_lexer": "ipython3",
   "version": "3.10.15"
  }
 },
 "nbformat": 4,
 "nbformat_minor": 5
}
