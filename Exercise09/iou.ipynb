{
 "cells": [
  {
   "cell_type": "markdown",
   "metadata": {},
   "source": [
    "# Intersection over Union\n",
    "\n",
    "Bounding Box defined as: [x_min, y_min, x_max, y_max]"
   ]
  },
  {
   "cell_type": "code",
   "execution_count": 1,
   "metadata": {},
   "outputs": [],
   "source": [
    "def intersection_over_union(a, b):\n",
    "    # check if the boxes intersect\n",
    "    if a[0] > b[2] or b[0] > a[2] or a[1] > b[3] or b[1] > a[3]:\n",
    "        return 0\n",
    "\n",
    "    intersect_x = min(a[2], b[2]) - max(a[0], b[0])\n",
    "    intersect_y = min(a[3], b[3]) - max(a[1], b[1])\n",
    "    area_intersection = intersect_x * intersect_y\n",
    "\n",
    "    area_a = (a[2] - a[0]) * (a[3] - a[1])\n",
    "    area_b = (b[2] - b[0]) * (b[3] - b[1])\n",
    "    \n",
    "    return area_intersection / (area_a + area_b - area_intersection)"
   ]
  },
  {
   "cell_type": "code",
   "execution_count": 2,
   "metadata": {},
   "outputs": [
    {
     "data": {
      "text/plain": [
       "0.16666666666666666"
      ]
     },
     "execution_count": 2,
     "metadata": {},
     "output_type": "execute_result"
    }
   ],
   "source": [
    "BB_1 = [1,2,5,6]\n",
    "BB_2 = [3,4,6,8]\n",
    "intersection_over_union(BB_1, BB_2)"
   ]
  },
  {
   "cell_type": "code",
   "execution_count": 3,
   "metadata": {},
   "outputs": [
    {
     "data": {
      "text/plain": [
       "0.16666666666666666"
      ]
     },
     "execution_count": 3,
     "metadata": {},
     "output_type": "execute_result"
    }
   ],
   "source": [
    "BB_1 = [1,4,5,8]\n",
    "BB_2 = [3,2,6,6]\n",
    "intersection_over_union(BB_1, BB_2)"
   ]
  },
  {
   "cell_type": "code",
   "execution_count": 4,
   "metadata": {},
   "outputs": [
    {
     "data": {
      "text/plain": [
       "0.09090909090909091"
      ]
     },
     "execution_count": 4,
     "metadata": {},
     "output_type": "execute_result"
    }
   ],
   "source": [
    "BB_1 = [5,4,8,8]\n",
    "BB_2 = [3,2,6,6]\n",
    "intersection_over_union(BB_1, BB_2)"
   ]
  },
  {
   "cell_type": "code",
   "execution_count": 5,
   "metadata": {},
   "outputs": [
    {
     "data": {
      "text/plain": [
       "0.09090909090909091"
      ]
     },
     "execution_count": 5,
     "metadata": {},
     "output_type": "execute_result"
    }
   ],
   "source": [
    "BB_1 = [5,2,8,6]\n",
    "BB_2 = [3,4,6,8]\n",
    "intersection_over_union(BB_1, BB_2)"
   ]
  },
  {
   "cell_type": "code",
   "execution_count": 6,
   "metadata": {},
   "outputs": [
    {
     "data": {
      "text/plain": [
       "0"
      ]
     },
     "execution_count": 6,
     "metadata": {},
     "output_type": "execute_result"
    }
   ],
   "source": [
    "BB_1 = [1,2,5,6]\n",
    "BB_2 = [6,4,9,8]\n",
    "intersection_over_union(BB_1, BB_2)"
   ]
  },
  {
   "cell_type": "code",
   "execution_count": 7,
   "metadata": {},
   "outputs": [
    {
     "data": {
      "text/plain": [
       "0"
      ]
     },
     "execution_count": 7,
     "metadata": {},
     "output_type": "execute_result"
    }
   ],
   "source": [
    "BB_1 = [6,2,10,6]\n",
    "BB_2 = [1,4,4,8]\n",
    "intersection_over_union(BB_1, BB_2)"
   ]
  },
  {
   "cell_type": "code",
   "execution_count": 8,
   "metadata": {},
   "outputs": [
    {
     "data": {
      "text/plain": [
       "0"
      ]
     },
     "execution_count": 8,
     "metadata": {},
     "output_type": "execute_result"
    }
   ],
   "source": [
    "BB_1 = [3,6,7,10]\n",
    "BB_2 = [1,0,4,4]\n",
    "intersection_over_union(BB_1, BB_2)"
   ]
  },
  {
   "cell_type": "code",
   "execution_count": 9,
   "metadata": {},
   "outputs": [
    {
     "data": {
      "text/plain": [
       "0"
      ]
     },
     "execution_count": 9,
     "metadata": {},
     "output_type": "execute_result"
    }
   ],
   "source": [
    "BB_1 = [3,0,7,4]\n",
    "BB_2 = [1,6,4,10]\n",
    "intersection_over_union(BB_1, BB_2)"
   ]
  },
  {
   "cell_type": "code",
   "execution_count": null,
   "metadata": {},
   "outputs": [],
   "source": []
  }
 ],
 "metadata": {
  "kernelspec": {
   "display_name": "Python 3",
   "language": "python",
   "name": "python3"
  },
  "language_info": {
   "codemirror_mode": {
    "name": "ipython",
    "version": 3
   },
   "file_extension": ".py",
   "mimetype": "text/x-python",
   "name": "python",
   "nbconvert_exporter": "python",
   "pygments_lexer": "ipython3",
   "version": "3.11.3"
  }
 },
 "nbformat": 4,
 "nbformat_minor": 2
}
